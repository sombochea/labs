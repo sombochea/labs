{
 "cells": [
  {
   "cell_type": "code",
   "execution_count": 17,
   "id": "840839f1-f1aa-4013-9b1a-aea5c136063c",
   "metadata": {},
   "outputs": [],
   "source": [
    "import numpy as np"
   ]
  },
  {
   "cell_type": "code",
   "execution_count": 4,
   "id": "01c4f8bb-7983-44ba-8bb9-6798863ef1f6",
   "metadata": {},
   "outputs": [],
   "source": [
    "x = 5"
   ]
  },
  {
   "cell_type": "code",
   "execution_count": 7,
   "id": "54e2e946-5081-43c2-961f-e88c675a7a94",
   "metadata": {},
   "outputs": [
    {
     "name": "stdout",
     "output_type": "stream",
     "text": [
      "X is 5\n"
     ]
    }
   ],
   "source": [
    "print (\"X is {}\".format(x))"
   ]
  },
  {
   "cell_type": "code",
   "execution_count": 18,
   "id": "df04f950-79de-4e30-9794-2eb3d72edcaa",
   "metadata": {},
   "outputs": [],
   "source": [
    "x = np.array([1,2,3,4])"
   ]
  },
  {
   "cell_type": "code",
   "execution_count": 21,
   "id": "470ae9cb-c246-432a-bc21-42662478c376",
   "metadata": {},
   "outputs": [
    {
     "name": "stdout",
     "output_type": "stream",
     "text": [
      "5.477225575051661\n"
     ]
    }
   ],
   "source": [
    "print(np.linalg.norm(x))"
   ]
  },
  {
   "cell_type": "code",
   "execution_count": 25,
   "id": "561809df-be32-468d-a668-78c8ba8dbb39",
   "metadata": {},
   "outputs": [
    {
     "name": "stdout",
     "output_type": "stream",
     "text": [
      "9.0\n"
     ]
    }
   ],
   "source": [
    "print(np.linalg.norm([3,6,-6]))"
   ]
  },
  {
   "cell_type": "code",
   "execution_count": 19,
   "id": "859b1d68-565d-4623-b205-f554c4163a92",
   "metadata": {},
   "outputs": [
    {
     "name": "stdout",
     "output_type": "stream",
     "text": [
      "X is [1 2 3 4]\n"
     ]
    }
   ],
   "source": [
    "print (\"X is {}\".format(x))"
   ]
  },
  {
   "cell_type": "code",
   "execution_count": 34,
   "id": "8923e22f-3ac1-40df-9144-f78f8bbf7faf",
   "metadata": {},
   "outputs": [
    {
     "name": "stdout",
     "output_type": "stream",
     "text": [
      "[[ 3  4  4]\n",
      " [ 6  7  7]\n",
      " [ 9 10 10]]\n"
     ]
    }
   ],
   "source": [
    "a = np.array([[1, 2, 3], [4, 5, 6], [7, 8, 9]])\n",
    "b = np.array([[2,2,1]])\n",
    "z = a + b\n",
    "print(z)\n"
   ]
  },
  {
   "cell_type": "code",
   "execution_count": 27,
   "id": "4b54db41-3778-4440-9bec-86302c1f9426",
   "metadata": {},
   "outputs": [
    {
     "name": "stdout",
     "output_type": "stream",
     "text": [
      "[[1 2 3]\n",
      " [4 5 6]\n",
      " [7 8 9]]\n"
     ]
    }
   ],
   "source": [
    "print(x)"
   ]
  },
  {
   "cell_type": "code",
   "execution_count": 35,
   "id": "6074d574-35cc-42a0-a43a-ed1e55632df5",
   "metadata": {},
   "outputs": [
    {
     "name": "stdout",
     "output_type": "stream",
     "text": [
      "10\n"
     ]
    }
   ],
   "source": [
    "v = np.array([4,0,-1])\n",
    "u = np.array([2,8,-2])\n",
    "n = np.dot(v,u)\n",
    "print(n)"
   ]
  },
  {
   "cell_type": "code",
   "execution_count": 36,
   "id": "0d522deb-6400-44fb-b4ab-795f302c19e5",
   "metadata": {},
   "outputs": [
    {
     "name": "stdout",
     "output_type": "stream",
     "text": [
      "[[-2.   1. ]\n",
      " [ 1.5 -0.5]]\n"
     ]
    }
   ],
   "source": [
    "A = np.array([[1,2],[3,4]])\n",
    "print(np.linalg.inv(A))"
   ]
  },
  {
   "cell_type": "code",
   "execution_count": 37,
   "id": "944899d5-b55f-4970-9871-6fc57b4b8cae",
   "metadata": {},
   "outputs": [
    {
     "name": "stdout",
     "output_type": "stream",
     "text": [
      "[[1. 0. 0. 0.]\n",
      " [0. 1. 0. 0.]\n",
      " [0. 0. 1. 0.]\n",
      " [0. 0. 0. 1.]]\n"
     ]
    }
   ],
   "source": [
    "id = np.eye(4)\n",
    "print(id)"
   ]
  },
  {
   "cell_type": "code",
   "execution_count": 38,
   "id": "63b33a8f-f9c7-4270-a0b8-6209780cad54",
   "metadata": {},
   "outputs": [
    {
     "name": "stdout",
     "output_type": "stream",
     "text": [
      "[[1. 0. 0. 0. 0.]\n",
      " [0. 1. 0. 0. 0.]\n",
      " [0. 0. 1. 0. 0.]\n",
      " [0. 0. 0. 1. 0.]\n",
      " [0. 0. 0. 0. 1.]]\n"
     ]
    }
   ],
   "source": [
    "id = np.eye(5)\n",
    "print(id)"
   ]
  },
  {
   "cell_type": "code",
   "execution_count": 42,
   "id": "8659afef-b1bc-45ef-a9f6-9b22fd0ff233",
   "metadata": {},
   "outputs": [
    {
     "name": "stdout",
     "output_type": "stream",
     "text": [
      "[[1. 0.]\n",
      " [0. 1.]]\n",
      "[[1 2]\n",
      " [3 4]]\n",
      "[[1. 0.]\n",
      " [0. 4.]]\n"
     ]
    }
   ],
   "source": [
    "id = np.eye(2)\n",
    "print(id)\n",
    "v = np.array([[1,2],[3,4]])\n",
    "print(v)\n",
    "z = id * v\n",
    "print(z)"
   ]
  },
  {
   "cell_type": "code",
   "execution_count": null,
   "id": "1db948ab-b62e-4741-8236-a665582381cf",
   "metadata": {},
   "outputs": [],
   "source": []
  },
  {
   "cell_type": "code",
   "execution_count": null,
   "id": "2081f531-7229-400d-bcf3-8bad8ba0e334",
   "metadata": {},
   "outputs": [],
   "source": []
  },
  {
   "cell_type": "code",
   "execution_count": null,
   "id": "d65553f5-0dd4-4eb1-8c46-0d72e017ccc9",
   "metadata": {},
   "outputs": [],
   "source": []
  },
  {
   "cell_type": "code",
   "execution_count": null,
   "id": "2d79a114-4afc-44a6-b502-42f9ceab0033",
   "metadata": {},
   "outputs": [],
   "source": []
  },
  {
   "cell_type": "code",
   "execution_count": null,
   "id": "061b53af-d08d-4752-bd2b-4ff6b16cfbd8",
   "metadata": {},
   "outputs": [],
   "source": []
  },
  {
   "cell_type": "code",
   "execution_count": null,
   "id": "b46cca7c-d1eb-4d4c-acca-0e8be3533bec",
   "metadata": {},
   "outputs": [],
   "source": []
  },
  {
   "cell_type": "code",
   "execution_count": null,
   "id": "0800abf4-3bfd-4ab5-be36-3507b3cb50a3",
   "metadata": {},
   "outputs": [],
   "source": []
  },
  {
   "cell_type": "code",
   "execution_count": null,
   "id": "6fd28b60-69f0-46c0-b623-8405fce65fcf",
   "metadata": {},
   "outputs": [],
   "source": []
  },
  {
   "cell_type": "code",
   "execution_count": null,
   "id": "1c84bef8-32e7-4461-9668-adb73b840882",
   "metadata": {},
   "outputs": [],
   "source": []
  },
  {
   "cell_type": "code",
   "execution_count": null,
   "id": "c25be77d-a0c3-4ed1-b789-203674590b91",
   "metadata": {},
   "outputs": [],
   "source": []
  },
  {
   "cell_type": "code",
   "execution_count": null,
   "id": "aa521c4e-bade-4cd6-8eeb-3481aa474fd2",
   "metadata": {},
   "outputs": [],
   "source": []
  },
  {
   "cell_type": "code",
   "execution_count": null,
   "id": "8f9e5a3e-1e67-4e30-b0ad-e8cac40edc2e",
   "metadata": {},
   "outputs": [],
   "source": []
  },
  {
   "cell_type": "code",
   "execution_count": null,
   "id": "1b4b3905-f7cf-4ee1-a913-5e76576c471f",
   "metadata": {},
   "outputs": [],
   "source": []
  },
  {
   "cell_type": "code",
   "execution_count": null,
   "id": "7d38b24d-72d2-4577-9dd9-1215b97d855e",
   "metadata": {},
   "outputs": [],
   "source": []
  },
  {
   "cell_type": "code",
   "execution_count": null,
   "id": "00faca14-7c3d-4ca6-96b7-6d4ce8217b5a",
   "metadata": {},
   "outputs": [],
   "source": []
  },
  {
   "cell_type": "code",
   "execution_count": null,
   "id": "a2c42a51-444a-4e39-9d8d-eddd57b7ba9a",
   "metadata": {},
   "outputs": [],
   "source": []
  },
  {
   "cell_type": "code",
   "execution_count": null,
   "id": "1a5f9551-3f27-48fb-904c-ebf9d87eb095",
   "metadata": {},
   "outputs": [],
   "source": []
  }
 ],
 "metadata": {
  "kernelspec": {
   "display_name": "Python 3 (ipykernel)",
   "language": "python",
   "name": "python3"
  },
  "language_info": {
   "codemirror_mode": {
    "name": "ipython",
    "version": 3
   },
   "file_extension": ".py",
   "mimetype": "text/x-python",
   "name": "python",
   "nbconvert_exporter": "python",
   "pygments_lexer": "ipython3",
   "version": "3.8.10"
  }
 },
 "nbformat": 4,
 "nbformat_minor": 5
}
